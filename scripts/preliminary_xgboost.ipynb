{
  "cells": [
    {
      "metadata": {
        "_uuid": "8f2839f25d086af736a60e9eeb907d3b93b6e0e5",
        "_cell_guid": "b1076dfc-b9ad-4769-8c92-a6c4dae69d19",
        "trusted": true
      },
      "cell_type": "markdown",
      "source": "# UCI Credit Card Default"
    },
    {
      "metadata": {
        "_uuid": "a3c58d85ae05f418bffc8d51f9101d0de4cbbd95"
      },
      "cell_type": "markdown",
      "source": "## Load in packages"
    },
    {
      "metadata": {
        "trusted": true,
        "_uuid": "f2d1a3ef54a6491279e2bc7614a56c3607b07476"
      },
      "cell_type": "code",
      "source": "# Load packages\nimport pandas as pd\nimport numpy as np\nimport os\nimport time\n\nfrom numpy import loadtxt\nfrom xgboost import XGBClassifier\nfrom sklearn.model_selection import train_test_split\nfrom sklearn.metrics import accuracy_score\n\nfrom sklearn.linear_model import LogisticRegression\nfrom sklearn.ensemble import GradientBoostingClassifier,RandomForestClassifier,AdaBoostClassifier\nfrom sklearn.neural_network import MLPClassifier\nfrom sklearn.preprocessing import StandardScaler\nfrom sklearn.model_selection import cross_val_predict,cross_val_score,train_test_split,StratifiedKFold\nfrom sklearn.metrics import classification_report,confusion_matrix,roc_curve,auc,precision_recall_curve,roc_curve, roc_auc_score\n\nimport matplotlib.pyplot as plt\nfrom mpl_toolkits.mplot3d import Axes3D\nimport seaborn as sns\n%matplotlib inline",
      "execution_count": null,
      "outputs": []
    },
    {
      "metadata": {
        "_uuid": "0e3cf83055f1d72972223d72d00218b441c30d76"
      },
      "cell_type": "markdown",
      "source": "## Read in Data"
    },
    {
      "metadata": {
        "_cell_guid": "79c7e3d0-c299-4dcb-8224-4455121ee9b0",
        "_uuid": "d629ff2d2480ee46fbb7e2d37f6b5fab8052498a",
        "trusted": true
      },
      "cell_type": "code",
      "source": "# Read data\ncredit_df = pd.read_csv('/kaggle/input/UCI_Credit_Card.csv')",
      "execution_count": null,
      "outputs": []
    },
    {
      "metadata": {
        "_uuid": "8460f1caaf286424440104d73ad1095dddb1d887"
      },
      "cell_type": "markdown",
      "source": "## EDA (brief)"
    },
    {
      "metadata": {
        "trusted": true,
        "_uuid": "e6f3151c66364571ca6a939f847d399ad0c98b6e"
      },
      "cell_type": "code",
      "source": "credit_df.shape",
      "execution_count": null,
      "outputs": []
    },
    {
      "metadata": {
        "trusted": true,
        "_uuid": "1da5b94a5856e33b70c632d53cf9c35c57d18ae4"
      },
      "cell_type": "code",
      "source": "# Class imbalance on whole dataset\ndef column_summary(df,col_name):\n    sum_df = df.groupby(str(col_name),as_index = False).agg({'ID':'nunique'})\n  \ncredit_df.groupby('default.payment.next.month',as_index = False).agg({'ID':'nunique'})",
      "execution_count": null,
      "outputs": []
    },
    {
      "metadata": {
        "_uuid": "0c3711ce3eea594bb81aca79c58d36f9cc84b509"
      },
      "cell_type": "markdown",
      "source": "## Clean data and create dummy variables"
    },
    {
      "metadata": {
        "trusted": true,
        "scrolled": true,
        "_uuid": "9944711584182f0e90ca1bdf0efd19f19d304743"
      },
      "cell_type": "code",
      "source": "col_names = credit_df.columns\ncol_names",
      "execution_count": null,
      "outputs": []
    },
    {
      "metadata": {
        "_uuid": "287989fd939527a286ba3d37242b4fb47f355390"
      },
      "cell_type": "markdown",
      "source": "### To prepare for modelling complete the following steps\n\n1. Drop ID\n2. Dumify\n    - SEX\n    - EDUCATION\n    - MARRIAGE\n    - PAY_0 -> PAY_6\n    (-1=pay duly, 1=payment delay for one month, 2=payment delay for two months,\n    8=payment delay for eight months, 9=payment delay for nine months and above)\n3. Strip off y value -> default.payment.next.month "
    },
    {
      "metadata": {
        "_uuid": "f24c6edd1ebe11623a7951a807b3b85895fb2ab6"
      },
      "cell_type": "markdown",
      "source": "## Create dummies"
    },
    {
      "metadata": {
        "trusted": true,
        "_uuid": "b30bbba28a9000481141a37c286a23ae55764449"
      },
      "cell_type": "code",
      "source": "# List of features for dummies\ndum_list = ['SEX','EDUCATION','MARRIAGE','PAY_0','PAY_2','PAY_3','PAY_4','PAY_5','PAY_6']\n# loop through list and create dummies!\nfor i in dum_list:\n    dummies = pd.get_dummies(credit_df[str(i)]).rename(columns=lambda x: str(i)+'_' + str(x))\n    credit_df = pd.concat([credit_df, dummies], axis=1)\n\n# Dummies created, now drop one dummy for each category for modelling\nnew_cols = credit_df.columns\n\n# Drop all _2 dummies\ndrop_cols = [x for x in new_cols if x.endswith('_2')]\ndrop_cols\ncredit_df.drop(drop_cols, axis=1, inplace=True)\n\n# Now also drop original columns that were dummified as well as ID and \nnew_drop = ['SEX', 'EDUCATION', 'MARRIAGE', 'PAY_0', 'PAY_3', 'PAY_4', 'PAY_5', 'PAY_6','ID']\ncredit_df.drop(new_drop, axis=1, inplace=True)\n\n# Drop any duplicate columns from concat\ncredit_df = credit_df.loc[:,~credit_df.columns.duplicated()]",
      "execution_count": null,
      "outputs": []
    },
    {
      "metadata": {
        "trusted": true,
        "_uuid": "80c91b850fd71f95719f56979d7de0402cd0ea92"
      },
      "cell_type": "code",
      "source": "credit_df.shape",
      "execution_count": null,
      "outputs": []
    },
    {
      "metadata": {
        "trusted": true,
        "scrolled": false,
        "_uuid": "bec4bcd0a15d2616f8bbed6091ab2b2e187fbd15"
      },
      "cell_type": "code",
      "source": "credit_df.head()",
      "execution_count": null,
      "outputs": []
    },
    {
      "metadata": {
        "_uuid": "e5e61cadfd2f56ea0300d6dbd8a3bfcbc4e0cded"
      },
      "cell_type": "markdown",
      "source": "## Split into test-train"
    },
    {
      "metadata": {
        "trusted": true,
        "_uuid": "cf338fda85e6b8fa1f1e6b6cc0dddf38ddca543f"
      },
      "cell_type": "code",
      "source": "# split data into X and y\nY = credit_df[\"default.payment.next.month\"]\nX = credit_df.drop(\"default.payment.next.month\", axis=1,)\n\n# split data into train and test sets\nseed = 7\ntest_size = 0.4\nX_train, X_test, y_train, y_test = train_test_split(X, Y, test_size=test_size, random_state=seed)",
      "execution_count": null,
      "outputs": []
    },
    {
      "metadata": {
        "_uuid": "ade9f6d5b14d48ba7d205a642ca0d9e4d638eeb5"
      },
      "cell_type": "markdown",
      "source": "## Run CV on initial XGB model"
    },
    {
      "metadata": {
        "trusted": true,
        "_uuid": "c75afecc687ab3af92f70c348930177ebf3b17d4"
      },
      "cell_type": "code",
      "source": "# Create classifier (default hyperparams)\nmodel = XGBClassifier()",
      "execution_count": null,
      "outputs": []
    },
    {
      "metadata": {
        "trusted": true,
        "_uuid": "8ee82d2eafa5c6ffd2a8866bd26615b3f8641d9a"
      },
      "cell_type": "code",
      "source": "# Specify CV method (stratified becasue of class imbalance)\nkfold = StratifiedKFold(n_splits=10, random_state=7)",
      "execution_count": null,
      "outputs": []
    },
    {
      "metadata": {
        "trusted": true,
        "_uuid": "df6ec0b18bf4a77a732a9f08a4e6d916f6756b54"
      },
      "cell_type": "code",
      "source": "# Get results of CV\nresults = cross_val_score(model, X_train, y_train, cv=kfold)\n# 82% Accuracy on training set w/ default hyperparams\ncv_mean = results.mean() * 100\ncv_std = results.std()*100\nprint(\"Accuracy: %.2f%% (%.2f%%)\" % (cv_mean,cv_std ))",
      "execution_count": null,
      "outputs": []
    },
    {
      "metadata": {
        "_uuid": "e586bd6f44b0a1297e8c632da69ca30f88a61b42"
      },
      "cell_type": "markdown",
      "source": "## Train model on whole training set"
    },
    {
      "metadata": {
        "trusted": true,
        "_uuid": "d8d86f2d9d90c2cdf288b8a8e86381d300797d92"
      },
      "cell_type": "code",
      "source": "model = XGBClassifier()\nmodel.fit(X_train, y_train)",
      "execution_count": null,
      "outputs": []
    },
    {
      "metadata": {
        "_uuid": "31106503cddc29ea731225bddcce418199dab2fc"
      },
      "cell_type": "markdown",
      "source": "## Look at model performance on holdout set"
    },
    {
      "metadata": {
        "trusted": true,
        "_uuid": "964c2d2b680ec497e69d6dbf856bc73969edd52a"
      },
      "cell_type": "code",
      "source": "# Get predicted probabilites\ny_pred = model.predict_proba(X_test)[:,1]\n\n# Round predictions for accuracy\npredictions = [round(value) for value in y_pred]\n\n# 82% Accuracy on holdout set (CV was good at estimating models performance!)\naccuracy = accuracy_score(y_test, predictions)\nprint(\"Accuracy: %.2f%%\" % (accuracy * 100.0))",
      "execution_count": null,
      "outputs": []
    },
    {
      "metadata": {
        "_uuid": "a9c8c517e5722d76aa3e1648ce61adc1ccc925b4"
      },
      "cell_type": "markdown",
      "source": "## PR Curve"
    },
    {
      "metadata": {
        "trusted": true,
        "_uuid": "6d43aa54b038fdda165573080c637ea6ab4906cc"
      },
      "cell_type": "code",
      "source": "precision, recall, _ = precision_recall_curve(y_test, y_pred)\n\n# Plot PR Curve\nfig = plt.figure(figsize=(15,8))\nax1 = fig.add_subplot(1,2,1)\nax1.set_xlim([-0.05,1.05])\nax1.set_ylim([-0.05,1.05])\nax1.set_xlabel('Recall')\nax1.set_ylabel('Precision')\nax1.set_title('PR Curve')\np,r,_ = precision_recall_curve(y_test,y_pred)\nax1.plot(r,p)\nplt.show()",
      "execution_count": null,
      "outputs": []
    },
    {
      "metadata": {
        "_uuid": "82725b44939e3bb77d0d3c758e445e0959c471e8"
      },
      "cell_type": "markdown",
      "source": "## ROC Curve"
    },
    {
      "metadata": {
        "trusted": true,
        "_uuid": "16f57e8a02bbb8fb3ecc38c938a735fab3f25a30"
      },
      "cell_type": "code",
      "source": "fpr, tpr, thresholds = roc_curve(y_test, y_pred)\nplt.plot([0, 1], [0, 1], 'k--')\nplt.plot(fpr, tpr, label='XGBOOST')\nplt.xlabel('False Positive Rate')\nplt.ylabel('True Positive Rate')\nplt.title('ROC Curve')\nplt.show()",
      "execution_count": null,
      "outputs": []
    },
    {
      "metadata": {
        "trusted": true,
        "_uuid": "3d25f8e18b981d9e92a5d0d887c22b95650cfae0"
      },
      "cell_type": "code",
      "source": "# 77% AUC\nauc = roc_auc_score(y_test, y_pred) * 100\nprint(\"ROC: %.2f%%\" % (auc))",
      "execution_count": null,
      "outputs": []
    }
  ],
  "metadata": {
    "kernelspec": {
      "display_name": "Python 3",
      "language": "python",
      "name": "python3"
    },
    "language_info": {
      "name": "python",
      "version": "3.6.6",
      "mimetype": "text/x-python",
      "codemirror_mode": {
        "name": "ipython",
        "version": 3
      },
      "pygments_lexer": "ipython3",
      "nbconvert_exporter": "python",
      "file_extension": ".py"
    }
  },
  "nbformat": 4,
  "nbformat_minor": 1
}